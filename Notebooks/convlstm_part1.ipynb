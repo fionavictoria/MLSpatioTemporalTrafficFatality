{
 "cells": [
  {
   "cell_type": "markdown",
   "id": "66fce355",
   "metadata": {},
   "source": [
    "### Heatmap Generation - Traffic accident hotspot prediction (2015-2020)"
   ]
  },
  {
   "cell_type": "code",
   "execution_count": 1,
   "id": "fe55bcaa",
   "metadata": {
    "scrolled": true
   },
   "outputs": [],
   "source": [
    "import os\n",
    "import math\n",
    "import warnings\n",
    "from os import walk\n",
    "import pandas as pd\n",
    "from tqdm import tqdm\n",
    "from PIL import Image\n",
    "import seaborn as sns\n",
    "import geopy.distance\n",
    "import matplotlib.pyplot as plt\n",
    "from geopy.geocoders import Nominatim\n",
    "from haversine import haversine, Unit\n",
    "\n",
    "warnings.filterwarnings('ignore')\n",
    "pd.set_option('display.max_columns', None)"
   ]
  },
  {
   "cell_type": "markdown",
   "id": "c3f779dd",
   "metadata": {},
   "source": [
    "#### Methods to help in the generation of spatio-temporal heatmaps"
   ]
  },
  {
   "cell_type": "code",
   "execution_count": null,
   "id": "7799ec0c",
   "metadata": {},
   "outputs": [],
   "source": [
    "# Most of the heatmap creation functionalities were used/modified from jeffmur's geoLife repository\n",
    "\n",
    "def createMap(location, cell_size=5):\n",
    "    \n",
    "    ## Calculate bounds\n",
    "    sLat = float(location[0])\n",
    "    nLat = float(location[1])\n",
    "    wLon = float(location[2])\n",
    "    eLon = float(location[3])\n",
    "\n",
    "    # all four corners\n",
    "    SE = [sLat, eLon]\n",
    "    SW = [sLat, wLon]\n",
    "    NE = [nLat, eLon]\n",
    "    NW = [nLat, wLon]\n",
    "\n",
    "    bounds = {\"SE\": SE, \"SW\": SW, \"NE\": NE, \"NW\": NW}\n",
    "\n",
    "    # Calculate Distance\n",
    "    # SW -> NW\n",
    "    width = math.ceil(geopy.distance.geodesic(SW, NW).miles)\n",
    "\n",
    "    # NW -> NE\n",
    "    length = math.ceil(geopy.distance.geodesic(NW, NE).miles)\n",
    "    if(length == 0):\n",
    "        length = 2400 #Alaska\n",
    "        \n",
    "    # Image Dimensions\n",
    "    l_pix = int(math.ceil(length / cell_size))\n",
    "    w_pix = int(math.ceil(width / cell_size))\n",
    "    \n",
    "    # Step Size for Lat/Lon comparison\n",
    "    # Max distance / num of pixels\n",
    "    \n",
    "    step_length = (nLat - sLat) / l_pix  #  Step Lenth\n",
    "    step_width = (eLon - wLon) / w_pix  #  Step Width\n",
    "\n",
    "    # Steps in degrees\n",
    "    step = {\"width\": step_width, \"length\": step_length}\n",
    "\n",
    "    # Calculated Width and Length of image\n",
    "    pix = {\"length\": l_pix, \"width\": w_pix}\n",
    "\n",
    "    return bounds, step, pix\n",
    "\n",
    "\n",
    "def frequencyHeatmap(bounds, pix, step, stdf):\n",
    "    # Generates a Frequency Matrix\n",
    "    nLat = bounds[\"NE\"][0]\n",
    "    eLon = bounds[\"NE\"][1]\n",
    "\n",
    "    columns = pix[\"width\"]\n",
    "    rows = pix[\"length\"]\n",
    "\n",
    "    step_w = step[\"width\"]\n",
    "    step_l = step[\"length\"]\n",
    "\n",
    "    freq_heat = pd.DataFrame(0, index=range(rows+1), columns=range(columns+1))\n",
    "    lonLat = stdf[stdf.columns[7:9]].to_numpy()\n",
    "    maxVal = 0\n",
    "\n",
    "    for location in lonLat:\n",
    "        r = round((nLat - location[1]) / step_l)\n",
    "        c = round((eLon - location[0]) / step_w)\n",
    "        #print(r,c)\n",
    "        if (c <= columns) and (c >= 0) and (r <= rows) and (r >= 0):\n",
    "            freq_heat.loc[r, c] += 1\n",
    "\n",
    "            if maxVal < freq_heat.loc[r, c]:\n",
    "                maxVal = freq_heat.loc[r, c]\n",
    "    return maxVal, freq_heat\n",
    "\n",
    "def genFMprime(freq_heat):\n",
    "    # Generates an image representation of the Frequency Matrix\n",
    "    dim = freq_heat.shape\n",
    "    #print(\"dim\",dim)\n",
    "    img = Image.new(\"RGB\", (dim[0], dim[1]), color=\"red\")\n",
    "    pixels = img.load()\n",
    "\n",
    "    for i in range(freq_heat.shape[0]): #iterate over rows\n",
    "        for j in range(freq_heat.shape[1]): #iterate over columns\n",
    "            #print(i,j)\n",
    "            if(freq_heat.at[i, j] == 1):\n",
    "                pixels[i, j] = (255, 255, 255)\n",
    "            else:\n",
    "                pixels[i, j] = (0, 0, 0)\n",
    "    \n",
    "    '''\n",
    "    for row in freq_heat.itertuples():\n",
    "        # Need row index for assignment\n",
    "        for c in range(1, len(row)):\n",
    "            # Capture data point at [row, column]\n",
    "            data = row[c]\n",
    "            freq = int(255 * data)\n",
    "            pixels[row[0], c - 1] = (freq, freq, freq)\n",
    "            '''\n",
    "    #print(img.size)\n",
    "    return img\n",
    "\n",
    "def dropOutlyingData(df, boundingbox):\n",
    "    # Remove data outside the bounding box of Beijing\n",
    "    lat = boundingbox[0:2]\n",
    "    lon = boundingbox[2:4]\n",
    "\n",
    "    return df.loc[\n",
    "        (df.longitude >= float(lon[0]))\n",
    "        & (df.longitude <= float(lon[1]))\n",
    "        & (df.latitude >= float(lat[0]))\n",
    "        & (df.latitude <= float(lat[1]))\n",
    "    ].reset_index(drop=True)"
   ]
  },
  {
   "cell_type": "markdown",
   "id": "ce689a53",
   "metadata": {},
   "source": [
    "#### Load accident datasets from FARS database"
   ]
  },
  {
   "cell_type": "code",
   "execution_count": 2,
   "id": "6dc8106e",
   "metadata": {},
   "outputs": [
    {
     "name": "stdout",
     "output_type": "stream",
     "text": [
      "FARS2015NationalCSV\n",
      "accident.csv\n",
      "FARS2016NationalCSV\n",
      "accident.CSV\n",
      "FARS2017NationalCSV\n",
      "accident.CSV\n",
      "FARS2018NationalCSV\n",
      "accident.csv\n",
      "FARS2019NationalCSV\n",
      "accident.CSV\n",
      "FARS2020NationalCSV\n",
      "accident.CSV\n"
     ]
    }
   ],
   "source": [
    "# Load data\n",
    "FARSpath = \"/data/fiona123/ProjectData_TrafficFatality/\"\n",
    "FARS = [\"FARS2015NationalCSV\",\"FARS2016NationalCSV\",\"FARS2017NationalCSV\",\"FARS2018NationalCSV\",\n",
    "       \"FARS2019NationalCSV\", \"FARS2020NationalCSV\"]\n",
    "\n",
    "d = {}\n",
    "for i in FARS:\n",
    "    print(i)\n",
    "    files = next(walk(FARSpath+i))[2]\n",
    "    for j in files:\n",
    "        if (\"accident\" in j) or (\"ACCIDENT\" in j):\n",
    "            print(j)\n",
    "            d[i[4:8] + \"_\" + j[:-4]] = pd.read_csv(FARSpath + i + \"/\" + j,encoding='ISO8859-1')"
   ]
  },
  {
   "cell_type": "markdown",
   "id": "dcb3e49c",
   "metadata": {},
   "source": [
    "#### Concat all accident datasets and create a heatmapid based on Date"
   ]
  },
  {
   "cell_type": "code",
   "execution_count": 5,
   "id": "30b7d54f",
   "metadata": {
    "scrolled": true
   },
   "outputs": [
    {
     "data": {
      "text/html": [
       "<div>\n",
       "<style scoped>\n",
       "    .dataframe tbody tr th:only-of-type {\n",
       "        vertical-align: middle;\n",
       "    }\n",
       "\n",
       "    .dataframe tbody tr th {\n",
       "        vertical-align: top;\n",
       "    }\n",
       "\n",
       "    .dataframe thead th {\n",
       "        text-align: right;\n",
       "    }\n",
       "</style>\n",
       "<table border=\"1\" class=\"dataframe\">\n",
       "  <thead>\n",
       "    <tr style=\"text-align: right;\">\n",
       "      <th></th>\n",
       "      <th>LATITUDE</th>\n",
       "      <th>LONGITUD</th>\n",
       "      <th>YEAR</th>\n",
       "      <th>MONTH</th>\n",
       "      <th>DAY</th>\n",
       "      <th>STATENAME</th>\n",
       "      <th>heatmapid</th>\n",
       "    </tr>\n",
       "  </thead>\n",
       "  <tbody>\n",
       "    <tr>\n",
       "      <th>0</th>\n",
       "      <td>33.878653</td>\n",
       "      <td>-87.325328</td>\n",
       "      <td>2015</td>\n",
       "      <td>1</td>\n",
       "      <td>1</td>\n",
       "      <td>Alabama</td>\n",
       "      <td>2015_1_1</td>\n",
       "    </tr>\n",
       "    <tr>\n",
       "      <th>1</th>\n",
       "      <td>34.910442</td>\n",
       "      <td>-86.908708</td>\n",
       "      <td>2015</td>\n",
       "      <td>1</td>\n",
       "      <td>1</td>\n",
       "      <td>Alabama</td>\n",
       "      <td>2015_1_1</td>\n",
       "    </tr>\n",
       "    <tr>\n",
       "      <th>2</th>\n",
       "      <td>32.142006</td>\n",
       "      <td>-85.758456</td>\n",
       "      <td>2015</td>\n",
       "      <td>1</td>\n",
       "      <td>1</td>\n",
       "      <td>Alabama</td>\n",
       "      <td>2015_1_1</td>\n",
       "    </tr>\n",
       "    <tr>\n",
       "      <th>3</th>\n",
       "      <td>31.439814</td>\n",
       "      <td>-85.510300</td>\n",
       "      <td>2015</td>\n",
       "      <td>1</td>\n",
       "      <td>4</td>\n",
       "      <td>Alabama</td>\n",
       "      <td>2015_1_4</td>\n",
       "    </tr>\n",
       "    <tr>\n",
       "      <th>4</th>\n",
       "      <td>31.319331</td>\n",
       "      <td>-85.515100</td>\n",
       "      <td>2015</td>\n",
       "      <td>1</td>\n",
       "      <td>7</td>\n",
       "      <td>Alabama</td>\n",
       "      <td>2015_1_7</td>\n",
       "    </tr>\n",
       "  </tbody>\n",
       "</table>\n",
       "</div>"
      ],
      "text/plain": [
       "    LATITUDE   LONGITUD  YEAR  MONTH  DAY STATENAME heatmapid\n",
       "0  33.878653 -87.325328  2015      1    1   Alabama  2015_1_1\n",
       "1  34.910442 -86.908708  2015      1    1   Alabama  2015_1_1\n",
       "2  32.142006 -85.758456  2015      1    1   Alabama  2015_1_1\n",
       "3  31.439814 -85.510300  2015      1    4   Alabama  2015_1_4\n",
       "4  31.319331 -85.515100  2015      1    7   Alabama  2015_1_7"
      ]
     },
     "metadata": {},
     "output_type": "display_data"
    }
   ],
   "source": [
    "names = []\n",
    "for i in d.keys():\n",
    "    temp_df = d[i]\n",
    "    names.append(temp_df)\n",
    "d['accident'] = pd.concat(names)\n",
    "d['accident_heatmap'] = d['accident'][['LATITUDE', 'LONGITUD','YEAR','MONTH','DAY','STATENAME']]\n",
    "d['accident_heatmap']['heatmapid'] = d['accident_heatmap']['YEAR'].astype(str) + '_' + d['accident_heatmap']['MONTH'].astype(str) + '_' + d['accident_heatmap']['DAY'].astype(str)\n",
    "display(d['accident_heatmap'].head(5))"
   ]
  },
  {
   "cell_type": "markdown",
   "id": "68f45e82",
   "metadata": {},
   "source": [
    "#### Create directories to store heatmaps for each state"
   ]
  },
  {
   "cell_type": "code",
   "execution_count": 6,
   "id": "aea7c30f",
   "metadata": {
    "scrolled": true
   },
   "outputs": [
    {
     "name": "stderr",
     "output_type": "stream",
     "text": [
      "100%|██████████████████████████████████████████████████████████████████████| 51/51 [00:00<00:00, 44196.18it/s]"
     ]
    },
    {
     "name": "stdout",
     "output_type": "stream",
     "text": [
      "Alabama\n",
      "Alaska\n",
      "Arizona\n",
      "Arkansas\n",
      "California\n",
      "Colorado\n",
      "Connecticut\n",
      "Delaware\n",
      "District of Columbia\n",
      "Florida\n",
      "Georgia\n",
      "Hawaii\n",
      "Idaho\n",
      "Illinois\n",
      "Indiana\n",
      "Iowa\n",
      "Kansas\n",
      "Kentucky\n",
      "Louisiana\n",
      "Maine\n",
      "Maryland\n",
      "Massachusetts\n",
      "Michigan\n",
      "Minnesota\n",
      "Mississippi\n",
      "Missouri\n",
      "Montana\n",
      "Nebraska\n",
      "Nevada\n",
      "New Hampshire\n",
      "New Jersey\n",
      "New Mexico\n",
      "New York\n",
      "North Carolina\n",
      "North Dakota\n",
      "Ohio\n",
      "Oklahoma\n",
      "Oregon\n",
      "Pennsylvania\n",
      "Rhode Island\n",
      "South Carolina\n",
      "South Dakota\n",
      "Tennessee\n",
      "Texas\n",
      "Utah\n",
      "Vermont\n",
      "Virginia\n",
      "Washington\n",
      "West Virginia\n",
      "Wisconsin\n",
      "Wyoming\n"
     ]
    },
    {
     "name": "stderr",
     "output_type": "stream",
     "text": [
      "\n"
     ]
    }
   ],
   "source": [
    "states = d['accident_heatmap'].STATENAME.unique()\n",
    "\n",
    "# Creates 50 directories for each state\n",
    "for i in tqdm(states):\n",
    "    path = \"/data/fiona123/Project_GeneratedData/\" + str(i)\n",
    "    print(i)\n",
    "    if not os.path.exists(path):\n",
    "        os.mkdir(path)"
   ]
  },
  {
   "cell_type": "markdown",
   "id": "d3f1e398",
   "metadata": {},
   "source": [
    "#### Create heatmaps and save in respective directories"
   ]
  },
  {
   "cell_type": "code",
   "execution_count": 43,
   "id": "96e6368c",
   "metadata": {
    "scrolled": false
   },
   "outputs": [
    {
     "name": "stderr",
     "output_type": "stream",
     "text": [
      "  0%|                                                                                  | 0/51 [00:00<?, ?it/s]/data/fiona123/kats_jup/lib/python3.7/site-packages/ipykernel_launcher.py:20: SettingWithCopyWarning: \n",
      "A value is trying to be set on a copy of a slice from a DataFrame.\n",
      "Try using .loc[row_indexer,col_indexer] = value instead\n",
      "\n",
      "See the caveats in the documentation: https://pandas.pydata.org/pandas-docs/stable/user_guide/indexing.html#returning-a-view-versus-a-copy\n",
      "/data/fiona123/kats_jup/lib/python3.7/site-packages/ipykernel_launcher.py:21: SettingWithCopyWarning: \n",
      "A value is trying to be set on a copy of a slice from a DataFrame.\n",
      "Try using .loc[row_indexer,col_indexer] = value instead\n",
      "\n",
      "See the caveats in the documentation: https://pandas.pydata.org/pandas-docs/stable/user_guide/indexing.html#returning-a-view-versus-a-copy\n",
      "/data/fiona123/kats_jup/lib/python3.7/site-packages/ipykernel_launcher.py:32: DeprecationWarning: FLIP_LEFT_RIGHT is deprecated and will be removed in Pillow 10 (2023-07-01). Use Transpose.FLIP_LEFT_RIGHT instead.\n"
     ]
    },
    {
     "name": "stdout",
     "output_type": "stream",
     "text": [
      "Alabama\n"
     ]
    },
    {
     "name": "stderr",
     "output_type": "stream",
     "text": [
      "\r",
      "  2%|█▍                                                                        | 1/51 [01:00<50:46, 60.93s/it]"
     ]
    },
    {
     "name": "stdout",
     "output_type": "stream",
     "text": [
      "Alaska\n"
     ]
    },
    {
     "name": "stderr",
     "output_type": "stream",
     "text": [
      "\r",
      "  4%|██▊                                                                    | 2/51 [17:35<8:18:26, 610.33s/it]"
     ]
    },
    {
     "name": "stdout",
     "output_type": "stream",
     "text": [
      "Arizona\n"
     ]
    },
    {
     "name": "stderr",
     "output_type": "stream",
     "text": [
      "\r",
      "  6%|████▏                                                                  | 3/51 [18:53<4:53:51, 367.33s/it]"
     ]
    },
    {
     "name": "stdout",
     "output_type": "stream",
     "text": [
      "Arkansas\n"
     ]
    },
    {
     "name": "stderr",
     "output_type": "stream",
     "text": [
      "\r",
      "  8%|█████▌                                                                 | 4/51 [20:00<3:14:33, 248.38s/it]"
     ]
    },
    {
     "name": "stdout",
     "output_type": "stream",
     "text": [
      "California\n"
     ]
    },
    {
     "name": "stderr",
     "output_type": "stream",
     "text": [
      "\r",
      " 10%|██████▉                                                                | 5/51 [22:32<2:43:59, 213.90s/it]"
     ]
    },
    {
     "name": "stdout",
     "output_type": "stream",
     "text": [
      "Colorado\n"
     ]
    },
    {
     "name": "stderr",
     "output_type": "stream",
     "text": [
      "\r",
      " 12%|████████▎                                                              | 6/51 [23:54<2:06:45, 169.02s/it]"
     ]
    },
    {
     "name": "stdout",
     "output_type": "stream",
     "text": [
      "Connecticut\n"
     ]
    },
    {
     "name": "stderr",
     "output_type": "stream",
     "text": [
      "\r",
      " 14%|█████████▋                                                             | 7/51 [24:46<1:35:49, 130.68s/it]"
     ]
    },
    {
     "name": "stdout",
     "output_type": "stream",
     "text": [
      "Delaware\n"
     ]
    },
    {
     "name": "stderr",
     "output_type": "stream",
     "text": [
      "\r",
      " 16%|███████████▏                                                           | 8/51 [25:28<1:13:19, 102.31s/it]"
     ]
    },
    {
     "name": "stdout",
     "output_type": "stream",
     "text": [
      "District of Columbia\n"
     ]
    },
    {
     "name": "stderr",
     "output_type": "stream",
     "text": [
      "\r",
      " 18%|█████████████                                                             | 9/51 [26:07<57:46, 82.52s/it]"
     ]
    },
    {
     "name": "stdout",
     "output_type": "stream",
     "text": [
      "Florida\n"
     ]
    },
    {
     "name": "stderr",
     "output_type": "stream",
     "text": [
      "\r",
      " 20%|█████████████▉                                                         | 10/51 [27:56<1:02:10, 90.98s/it]"
     ]
    },
    {
     "name": "stdout",
     "output_type": "stream",
     "text": [
      "Georgia\n"
     ]
    },
    {
     "name": "stderr",
     "output_type": "stream",
     "text": [
      "\r",
      " 22%|███████████████▋                                                         | 11/51 [29:15<58:03, 87.10s/it]"
     ]
    },
    {
     "name": "stdout",
     "output_type": "stream",
     "text": [
      "Hawaii\n"
     ]
    },
    {
     "name": "stderr",
     "output_type": "stream",
     "text": [
      "\r",
      " 24%|████████████████▍                                                     | 12/51 [34:40<1:43:36, 159.40s/it]"
     ]
    },
    {
     "name": "stdout",
     "output_type": "stream",
     "text": [
      "Idaho\n"
     ]
    },
    {
     "name": "stderr",
     "output_type": "stream",
     "text": [
      "\r",
      " 25%|█████████████████▊                                                    | 13/51 [36:01<1:26:04, 135.91s/it]"
     ]
    },
    {
     "name": "stdout",
     "output_type": "stream",
     "text": [
      "Illinois\n"
     ]
    },
    {
     "name": "stderr",
     "output_type": "stream",
     "text": [
      "\r",
      " 27%|███████████████████▏                                                  | 14/51 [37:12<1:11:43, 116.31s/it]"
     ]
    },
    {
     "name": "stdout",
     "output_type": "stream",
     "text": [
      "Indiana\n"
     ]
    },
    {
     "name": "stderr",
     "output_type": "stream",
     "text": [
      "\r",
      " 29%|█████████████████████▍                                                   | 15/51 [38:11<59:17, 98.83s/it]"
     ]
    },
    {
     "name": "stdout",
     "output_type": "stream",
     "text": [
      "Iowa\n"
     ]
    },
    {
     "name": "stderr",
     "output_type": "stream",
     "text": [
      "\r",
      " 31%|██████████████████████▉                                                  | 16/51 [39:16<51:49, 88.85s/it]"
     ]
    },
    {
     "name": "stdout",
     "output_type": "stream",
     "text": [
      "Kansas\n"
     ]
    },
    {
     "name": "stderr",
     "output_type": "stream",
     "text": [
      "\r",
      " 33%|████████████████████████▎                                                | 17/51 [40:25<46:58, 82.90s/it]"
     ]
    },
    {
     "name": "stdout",
     "output_type": "stream",
     "text": [
      "Kentucky\n"
     ]
    },
    {
     "name": "stderr",
     "output_type": "stream",
     "text": [
      "\r",
      " 35%|█████████████████████████▊                                               | 18/51 [41:40<44:08, 80.26s/it]"
     ]
    },
    {
     "name": "stdout",
     "output_type": "stream",
     "text": [
      "Louisiana\n"
     ]
    },
    {
     "name": "stderr",
     "output_type": "stream",
     "text": [
      "\r",
      " 37%|███████████████████████████▏                                             | 19/51 [42:53<41:46, 78.34s/it]"
     ]
    },
    {
     "name": "stdout",
     "output_type": "stream",
     "text": [
      "Maine\n"
     ]
    },
    {
     "name": "stderr",
     "output_type": "stream",
     "text": [
      "\r",
      " 39%|████████████████████████████▋                                            | 20/51 [43:59<38:25, 74.36s/it]"
     ]
    },
    {
     "name": "stdout",
     "output_type": "stream",
     "text": [
      "Maryland\n"
     ]
    },
    {
     "name": "stderr",
     "output_type": "stream",
     "text": [
      "\r",
      " 41%|██████████████████████████████                                           | 21/51 [44:56<34:36, 69.20s/it]"
     ]
    },
    {
     "name": "stdout",
     "output_type": "stream",
     "text": [
      "Massachusetts\n"
     ]
    },
    {
     "name": "stderr",
     "output_type": "stream",
     "text": [
      "\r",
      " 43%|███████████████████████████████▍                                         | 22/51 [45:49<31:04, 64.28s/it]"
     ]
    },
    {
     "name": "stdout",
     "output_type": "stream",
     "text": [
      "Michigan\n"
     ]
    },
    {
     "name": "stderr",
     "output_type": "stream",
     "text": [
      "\r",
      " 45%|████████████████████████████████▉                                        | 23/51 [47:23<34:13, 73.33s/it]"
     ]
    },
    {
     "name": "stdout",
     "output_type": "stream",
     "text": [
      "Minnesota\n"
     ]
    },
    {
     "name": "stderr",
     "output_type": "stream",
     "text": [
      "\r",
      " 47%|██████████████████████████████████▎                                      | 24/51 [48:45<34:07, 75.83s/it]"
     ]
    },
    {
     "name": "stdout",
     "output_type": "stream",
     "text": [
      "Mississippi\n"
     ]
    },
    {
     "name": "stderr",
     "output_type": "stream",
     "text": [
      "\r",
      " 49%|███████████████████████████████████▊                                     | 25/51 [49:44<30:46, 71.03s/it]"
     ]
    },
    {
     "name": "stdout",
     "output_type": "stream",
     "text": [
      "Missouri\n"
     ]
    },
    {
     "name": "stderr",
     "output_type": "stream",
     "text": [
      "\r",
      " 51%|█████████████████████████████████████▏                                   | 26/51 [51:01<30:18, 72.74s/it]"
     ]
    },
    {
     "name": "stdout",
     "output_type": "stream",
     "text": [
      "Montana\n"
     ]
    },
    {
     "name": "stderr",
     "output_type": "stream",
     "text": [
      "\r",
      " 53%|██████████████████████████████████████▋                                  | 27/51 [52:31<31:09, 77.89s/it]"
     ]
    },
    {
     "name": "stdout",
     "output_type": "stream",
     "text": [
      "Nebraska\n"
     ]
    },
    {
     "name": "stderr",
     "output_type": "stream",
     "text": [
      "\r",
      " 55%|████████████████████████████████████████                                 | 28/51 [53:39<28:40, 74.80s/it]"
     ]
    },
    {
     "name": "stdout",
     "output_type": "stream",
     "text": [
      "Nevada\n"
     ]
    },
    {
     "name": "stderr",
     "output_type": "stream",
     "text": [
      "\r",
      " 57%|█████████████████████████████████████████▌                               | 29/51 [55:04<28:34, 77.91s/it]"
     ]
    },
    {
     "name": "stdout",
     "output_type": "stream",
     "text": [
      "New Hampshire\n"
     ]
    },
    {
     "name": "stderr",
     "output_type": "stream",
     "text": [
      "\r",
      " 59%|██████████████████████████████████████████▉                              | 30/51 [55:55<24:26, 69.81s/it]"
     ]
    },
    {
     "name": "stdout",
     "output_type": "stream",
     "text": [
      "New Jersey\n"
     ]
    },
    {
     "name": "stderr",
     "output_type": "stream",
     "text": [
      "\r",
      " 61%|████████████████████████████████████████████▎                            | 31/51 [56:42<21:03, 63.18s/it]"
     ]
    },
    {
     "name": "stdout",
     "output_type": "stream",
     "text": [
      "New Mexico\n"
     ]
    },
    {
     "name": "stderr",
     "output_type": "stream",
     "text": [
      "\r",
      " 63%|█████████████████████████████████████████████▊                           | 32/51 [58:01<21:27, 67.79s/it]"
     ]
    },
    {
     "name": "stdout",
     "output_type": "stream",
     "text": [
      "New York\n"
     ]
    },
    {
     "name": "stderr",
     "output_type": "stream",
     "text": [
      "\r",
      " 65%|███████████████████████████████████████████████▏                         | 33/51 [58:44<18:05, 60.31s/it]"
     ]
    },
    {
     "name": "stdout",
     "output_type": "stream",
     "text": [
      "North Carolina\n"
     ]
    },
    {
     "name": "stderr",
     "output_type": "stream",
     "text": [
      "\r",
      " 67%|███████████████████████████████████████████████▎                       | 34/51 [1:00:16<19:47, 69.85s/it]"
     ]
    },
    {
     "name": "stdout",
     "output_type": "stream",
     "text": [
      "North Dakota\n"
     ]
    },
    {
     "name": "stderr",
     "output_type": "stream",
     "text": [
      "\r",
      " 69%|████████████████████████████████████████████████▋                      | 35/51 [1:01:23<18:23, 68.98s/it]"
     ]
    },
    {
     "name": "stdout",
     "output_type": "stream",
     "text": [
      "Ohio\n"
     ]
    },
    {
     "name": "stderr",
     "output_type": "stream",
     "text": [
      "\r",
      " 71%|██████████████████████████████████████████████████                     | 36/51 [1:02:24<16:37, 66.50s/it]"
     ]
    },
    {
     "name": "stdout",
     "output_type": "stream",
     "text": [
      "Oklahoma\n"
     ]
    },
    {
     "name": "stderr",
     "output_type": "stream",
     "text": [
      "\r",
      " 73%|███████████████████████████████████████████████████▌                   | 37/51 [1:03:40<16:12, 69.47s/it]"
     ]
    },
    {
     "name": "stdout",
     "output_type": "stream",
     "text": [
      "Oregon\n"
     ]
    },
    {
     "name": "stderr",
     "output_type": "stream",
     "text": [
      "\r",
      " 75%|████████████████████████████████████████████████████▉                  | 38/51 [1:04:55<15:26, 71.25s/it]"
     ]
    },
    {
     "name": "stdout",
     "output_type": "stream",
     "text": [
      "Pennsylvania\n"
     ]
    },
    {
     "name": "stderr",
     "output_type": "stream",
     "text": [
      "\r",
      " 76%|██████████████████████████████████████████████████████▎                | 39/51 [1:05:56<13:36, 68.05s/it]"
     ]
    },
    {
     "name": "stdout",
     "output_type": "stream",
     "text": [
      "Rhode Island\n"
     ]
    },
    {
     "name": "stderr",
     "output_type": "stream",
     "text": [
      "\r",
      " 78%|███████████████████████████████████████████████████████▋               | 40/51 [1:06:36<10:56, 59.68s/it]"
     ]
    },
    {
     "name": "stdout",
     "output_type": "stream",
     "text": [
      "South Carolina\n"
     ]
    },
    {
     "name": "stderr",
     "output_type": "stream",
     "text": [
      "\r",
      " 80%|█████████████████████████████████████████████████████████              | 41/51 [1:07:38<10:01, 60.20s/it]"
     ]
    },
    {
     "name": "stdout",
     "output_type": "stream",
     "text": [
      "South Dakota\n"
     ]
    },
    {
     "name": "stderr",
     "output_type": "stream",
     "text": [
      "\r",
      " 82%|██████████████████████████████████████████████████████████▍            | 42/51 [1:08:45<09:20, 62.27s/it]"
     ]
    },
    {
     "name": "stdout",
     "output_type": "stream",
     "text": [
      "Tennessee\n"
     ]
    },
    {
     "name": "stderr",
     "output_type": "stream",
     "text": [
      "\r",
      " 84%|███████████████████████████████████████████████████████████▊           | 43/51 [1:09:57<08:43, 65.41s/it]"
     ]
    },
    {
     "name": "stdout",
     "output_type": "stream",
     "text": [
      "Texas\n"
     ]
    },
    {
     "name": "stderr",
     "output_type": "stream",
     "text": [
      "\r",
      " 86%|████████████████████████████████████████████████████████████▍         | 44/51 [1:13:23<12:32, 107.49s/it]"
     ]
    },
    {
     "name": "stdout",
     "output_type": "stream",
     "text": [
      "Utah\n"
     ]
    },
    {
     "name": "stderr",
     "output_type": "stream",
     "text": [
      "\r",
      " 88%|██████████████████████████████████████████████████████████████▋        | 45/51 [1:14:32<09:35, 95.87s/it]"
     ]
    },
    {
     "name": "stdout",
     "output_type": "stream",
     "text": [
      "Vermont\n"
     ]
    },
    {
     "name": "stderr",
     "output_type": "stream",
     "text": [
      "\r",
      " 90%|████████████████████████████████████████████████████████████████       | 46/51 [1:15:19<06:46, 81.39s/it]"
     ]
    },
    {
     "name": "stdout",
     "output_type": "stream",
     "text": [
      "Virginia\n"
     ]
    },
    {
     "name": "stderr",
     "output_type": "stream",
     "text": [
      "\r",
      " 92%|█████████████████████████████████████████████████████████████████▍     | 47/51 [1:16:43<05:28, 82.01s/it]"
     ]
    },
    {
     "name": "stdout",
     "output_type": "stream",
     "text": [
      "Washington\n"
     ]
    },
    {
     "name": "stderr",
     "output_type": "stream",
     "text": [
      "\r",
      " 94%|██████████████████████████████████████████████████████████████████▊    | 48/51 [1:17:27<03:31, 70.51s/it]"
     ]
    },
    {
     "name": "stdout",
     "output_type": "stream",
     "text": [
      "West Virginia\n"
     ]
    },
    {
     "name": "stderr",
     "output_type": "stream",
     "text": [
      "\r",
      " 96%|████████████████████████████████████████████████████████████████████▏  | 49/51 [1:18:31<02:17, 68.61s/it]"
     ]
    },
    {
     "name": "stdout",
     "output_type": "stream",
     "text": [
      "Wisconsin\n"
     ]
    },
    {
     "name": "stderr",
     "output_type": "stream",
     "text": [
      "\r",
      " 98%|█████████████████████████████████████████████████████████████████████▌ | 50/51 [1:19:47<01:10, 70.80s/it]"
     ]
    },
    {
     "name": "stdout",
     "output_type": "stream",
     "text": [
      "Wyoming\n"
     ]
    },
    {
     "name": "stderr",
     "output_type": "stream",
     "text": [
      "100%|███████████████████████████████████████████████████████████████████████| 51/51 [1:20:53<00:00, 95.17s/it]\n"
     ]
    }
   ],
   "source": [
    "CELL_SIZE = 10000\n",
    "SQ_CELL = float(CELL_SIZE) * 0.00062137\n",
    "\n",
    "for i in tqdm(states):\n",
    "    print(i)\n",
    "    app = Nominatim(user_agent=\"traffic\")\n",
    "    loc = app.geocode(str(i)).raw\n",
    "    path = \"/data/fiona123/Project_GeneratedData/\" + str(i) \n",
    "    for j in d['accident_heatmap']['heatmapid'].unique():\n",
    "        df_id = d['accident_heatmap'][d['accident_heatmap']['heatmapid'] == j]\n",
    "        df_id[\"longitude\"] = df_id[\"LONGITUD\"] \n",
    "        df_id[\"latitude\"] = df_id[\"LATITUDE\"] \n",
    "\n",
    "        if(len(df_id) == 0):\n",
    "            del df_id \n",
    "            continue\n",
    "        else: \n",
    "            df_id = dropOutlyingData(df_id, loc[\"boundingbox\"])\n",
    "            bounds, step, pix = createMap(loc[\"boundingbox\"], cell_size=SQ_CELL)\n",
    "            maxVal, freq_heat = frequencyHeatmap(bounds, pix, step, df_id)\n",
    "            freq_heat = freq_heat.T\n",
    "            img = genFMprime(freq_heat)\n",
    "            img = img.transpose(Image.FLIP_LEFT_RIGHT)\n",
    "            img = img.convert(\"L\")\n",
    "            img.save(path + \"/\" + str(j) + '.png', \"PNG\")"
   ]
  }
 ],
 "metadata": {
  "kernelspec": {
   "display_name": "Python 3 (ipykernel)",
   "language": "python",
   "name": "python3"
  },
  "language_info": {
   "codemirror_mode": {
    "name": "ipython",
    "version": 3
   },
   "file_extension": ".py",
   "mimetype": "text/x-python",
   "name": "python",
   "nbconvert_exporter": "python",
   "pygments_lexer": "ipython3",
   "version": "3.7.13"
  }
 },
 "nbformat": 4,
 "nbformat_minor": 5
}
