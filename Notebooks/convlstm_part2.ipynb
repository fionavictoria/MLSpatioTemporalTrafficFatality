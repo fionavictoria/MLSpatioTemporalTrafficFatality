{
 "cells": [
  {
   "cell_type": "markdown",
   "id": "b0071883",
   "metadata": {},
   "source": [
    "### Traffic accident hotspot prediction using ConvLSTM"
   ]
  },
  {
   "cell_type": "code",
   "execution_count": 1,
   "id": "50992c0e",
   "metadata": {
    "scrolled": false
   },
   "outputs": [
    {
     "name": "stderr",
     "output_type": "stream",
     "text": [
      "2022-06-07 15:25:46.551032: I tensorflow/stream_executor/platform/default/dso_loader.cc:48] Successfully opened dynamic library libcudart.so.10.1\n"
     ]
    }
   ],
   "source": [
    "import os\n",
    "import numpy as np\n",
    "from os import walk\n",
    "import pylab as plt\n",
    "import tensorflow as tf\n",
    "from tensorflow import keras \n",
    "from datetime import datetime\n",
    "from operator import attrgetter\n",
    "from PIL import Image, ImageOps\n",
    "from ipywidgets import interact\n",
    "from tensorflow.keras import activations\n",
    "from tensorflow.keras.models import Sequential\n",
    "from tensorflow.keras.layers import ConvLSTM2D\n",
    "from tensorflow.keras.layers import BatchNormalization\n",
    "from skimage.metrics import structural_similarity as ssim\n",
    "from tensorflow.keras.layers import Conv2D, Dropout, Activation\n"
   ]
  },
  {
   "cell_type": "code",
   "execution_count": 2,
   "id": "296775a3",
   "metadata": {
    "scrolled": false
   },
   "outputs": [
    {
     "name": "stderr",
     "output_type": "stream",
     "text": [
      "2022-06-07 15:25:48.116461: I tensorflow/stream_executor/platform/default/dso_loader.cc:48] Successfully opened dynamic library libcuda.so.1\n",
      "2022-06-07 15:25:48.152013: I tensorflow/core/common_runtime/gpu/gpu_device.cc:1716] Found device 0 with properties: \n",
      "pciBusID: 0000:18:00.0 name: GeForce RTX 2080 Ti computeCapability: 7.5\n",
      "coreClock: 1.545GHz coreCount: 68 deviceMemorySize: 10.76GiB deviceMemoryBandwidth: 573.69GiB/s\n",
      "2022-06-07 15:25:48.154153: I tensorflow/core/common_runtime/gpu/gpu_device.cc:1716] Found device 1 with properties: \n",
      "pciBusID: 0000:3b:00.0 name: GeForce RTX 2080 Ti computeCapability: 7.5\n",
      "coreClock: 1.545GHz coreCount: 68 deviceMemorySize: 10.76GiB deviceMemoryBandwidth: 573.69GiB/s\n",
      "2022-06-07 15:25:48.156084: I tensorflow/core/common_runtime/gpu/gpu_device.cc:1716] Found device 2 with properties: \n",
      "pciBusID: 0000:86:00.0 name: GeForce RTX 2080 Ti computeCapability: 7.5\n",
      "coreClock: 1.545GHz coreCount: 68 deviceMemorySize: 10.76GiB deviceMemoryBandwidth: 573.69GiB/s\n",
      "2022-06-07 15:25:48.158014: I tensorflow/core/common_runtime/gpu/gpu_device.cc:1716] Found device 3 with properties: \n",
      "pciBusID: 0000:af:00.0 name: GeForce RTX 2080 Ti computeCapability: 7.5\n",
      "coreClock: 1.545GHz coreCount: 68 deviceMemorySize: 10.76GiB deviceMemoryBandwidth: 573.69GiB/s\n",
      "2022-06-07 15:25:48.158058: I tensorflow/stream_executor/platform/default/dso_loader.cc:48] Successfully opened dynamic library libcudart.so.10.1\n",
      "2022-06-07 15:25:48.162331: I tensorflow/stream_executor/platform/default/dso_loader.cc:48] Successfully opened dynamic library libcublas.so.10\n",
      "2022-06-07 15:25:48.166690: I tensorflow/stream_executor/platform/default/dso_loader.cc:48] Successfully opened dynamic library libcufft.so.10\n",
      "2022-06-07 15:25:48.167327: I tensorflow/stream_executor/platform/default/dso_loader.cc:48] Successfully opened dynamic library libcurand.so.10\n",
      "2022-06-07 15:25:48.171882: I tensorflow/stream_executor/platform/default/dso_loader.cc:48] Successfully opened dynamic library libcusolver.so.10\n",
      "2022-06-07 15:25:48.174211: I tensorflow/stream_executor/platform/default/dso_loader.cc:48] Successfully opened dynamic library libcusparse.so.10\n",
      "2022-06-07 15:25:48.183173: I tensorflow/stream_executor/platform/default/dso_loader.cc:48] Successfully opened dynamic library libcudnn.so.7\n",
      "2022-06-07 15:25:48.194917: I tensorflow/core/common_runtime/gpu/gpu_device.cc:1858] Adding visible gpu devices: 0, 1, 2, 3\n"
     ]
    }
   ],
   "source": [
    "from tensorflow.compat.v1 import ConfigProto\n",
    "from tensorflow.compat.v1 import InteractiveSession\n",
    "\n",
    "gpus = tf.config.experimental.list_physical_devices('GPU')\n",
    "if gpus:\n",
    "  # Restrict TensorFlow to only use the second/third GPU\n",
    "  try:\n",
    "    tf.config.experimental.set_visible_devices(gpus[1], 'GPU')\n",
    "    tf.config.experimental.set_visible_devices(gpus[2], 'GPU')\n",
    "  except RuntimeError as e:\n",
    "    # Visible devices must be set at program startup\n",
    "    print(e)"
   ]
  },
  {
   "cell_type": "markdown",
   "id": "caec43d7",
   "metadata": {},
   "source": [
    "#### Get user input for USA State for which forecasting needs to be performed"
   ]
  },
  {
   "cell_type": "code",
   "execution_count": 3,
   "id": "9168eb51",
   "metadata": {
    "scrolled": false
   },
   "outputs": [],
   "source": [
    "states = next(walk(\"/data/fiona123/Project_GeneratedData/\"))[1]"
   ]
  },
  {
   "cell_type": "code",
   "execution_count": 4,
   "id": "76955b84",
   "metadata": {
    "scrolled": false
   },
   "outputs": [
    {
     "data": {
      "application/vnd.jupyter.widget-view+json": {
       "model_id": "fa85f6f8cd164e0ab2691a71a6ab6d53",
       "version_major": 2,
       "version_minor": 0
      },
      "text/plain": [
       "interactive(children=(Dropdown(description='State', options=('Texas', 'Maine', 'New Jersey', 'Tennessee', 'Mis…"
      ]
     },
     "metadata": {},
     "output_type": "display_data"
    }
   ],
   "source": [
    "def f(State):\n",
    "    global state_name\n",
    "    state_name = State\n",
    "    \n",
    "val = interact(f, State=states)"
   ]
  },
  {
   "cell_type": "markdown",
   "id": "3e1f2795",
   "metadata": {},
   "source": [
    "#### Load heatmaps and order them by date"
   ]
  },
  {
   "cell_type": "code",
   "execution_count": 5,
   "id": "4e5d7868",
   "metadata": {
    "scrolled": false
   },
   "outputs": [],
   "source": [
    "state_path = \"/data/fiona123/Project_GeneratedData/\" + str(state_name) + \"/\"\n",
    "\n",
    "state_file = next(walk(state_path))[2]\n",
    "ordered_file = []\n",
    "\n",
    "for i in state_file:\n",
    "    datetime = datetime.strptime(i.split(\".\")[0], '%Y_%m_%d')\n",
    "    ordered_file.append(datetime)\n",
    "\n",
    "ordered_file = sorted(ordered_file)"
   ]
  },
  {
   "cell_type": "code",
   "execution_count": 6,
   "id": "e6169c22",
   "metadata": {
    "scrolled": true
   },
   "outputs": [
    {
     "data": {
      "text/plain": [
       "['/data/fiona123/Project_GeneratedData/Texas/2015_1_6.png',\n",
       " '/data/fiona123/Project_GeneratedData/Texas/2015_1_7.png',\n",
       " '/data/fiona123/Project_GeneratedData/Texas/2015_1_8.png',\n",
       " '/data/fiona123/Project_GeneratedData/Texas/2015_1_9.png',\n",
       " '/data/fiona123/Project_GeneratedData/Texas/2015_1_10.png']"
      ]
     },
     "execution_count": 6,
     "metadata": {},
     "output_type": "execute_result"
    }
   ],
   "source": [
    "new_file_list = []\n",
    "\n",
    "for i in ordered_file:\n",
    "    temp = i.strftime('%Y_%m_%d').replace('_0', '_')\n",
    "    full_path = state_path + temp + \".png\"\n",
    "    new_file_list.append(full_path)  \n",
    "    \n",
    "new_file_list[5:10]"
   ]
  },
  {
   "cell_type": "markdown",
   "id": "030b18f5",
   "metadata": {},
   "source": [
    "#### Prepare data for training"
   ]
  },
  {
   "cell_type": "code",
   "execution_count": 7,
   "id": "222b9ddf",
   "metadata": {
    "scrolled": true
   },
   "outputs": [],
   "source": [
    "def create_shifted_frames(data):\n",
    "    x = data[:, 0 : data.shape[1] - 15, :, :]\n",
    "    return x"
   ]
  },
  {
   "cell_type": "code",
   "execution_count": 8,
   "id": "76a33855",
   "metadata": {
    "scrolled": true
   },
   "outputs": [
    {
     "name": "stdout",
     "output_type": "stream",
     "text": [
      "(1, 2192, 119, 120)\n",
      "(1, 2177, 119, 120)\n"
     ]
    }
   ],
   "source": [
    "#(samples, time, channels, rows, cols) \n",
    "x = np.array([np.array(Image.open(fname)) for fname in new_file_list])\n",
    "x = np.expand_dims(x, axis=0)\n",
    "print(x.shape)\n",
    "\n",
    "x_shifted = create_shifted_frames(x)\n",
    "print(x_shifted.shape)"
   ]
  },
  {
   "cell_type": "code",
   "execution_count": 9,
   "id": "ea5078fd",
   "metadata": {
    "scrolled": true
   },
   "outputs": [
    {
     "name": "stdout",
     "output_type": "stream",
     "text": [
      "(2192, 1, 120, 119, 1)\n"
     ]
    }
   ],
   "source": [
    "x = x.reshape(x.shape[1],1,x.shape[3],x.shape[2],1)\n",
    "print(x.shape)\n",
    "x_shifted = x_shifted.reshape(x_shifted.shape[1],1,x_shifted.shape[3],x_shifted.shape[2],1)"
   ]
  },
  {
   "cell_type": "markdown",
   "id": "55be94fd",
   "metadata": {},
   "source": [
    "#### Define the ConvLSTM Model"
   ]
  },
  {
   "cell_type": "code",
   "execution_count": 10,
   "id": "4425a579",
   "metadata": {
    "scrolled": false
   },
   "outputs": [
    {
     "name": "stderr",
     "output_type": "stream",
     "text": [
      "2022-06-07 15:25:48.822405: I tensorflow/core/platform/cpu_feature_guard.cc:142] This TensorFlow binary is optimized with oneAPI Deep Neural Network Library (oneDNN)to use the following CPU instructions in performance-critical operations:  AVX2 AVX512F FMA\n",
      "To enable them in other operations, rebuild TensorFlow with the appropriate compiler flags.\n",
      "2022-06-07 15:25:48.833830: I tensorflow/core/platform/profile_utils/cpu_utils.cc:104] CPU Frequency: 2200000000 Hz\n",
      "2022-06-07 15:25:48.836542: I tensorflow/compiler/xla/service/service.cc:168] XLA service 0x6a2c420 initialized for platform Host (this does not guarantee that XLA will be used). Devices:\n",
      "2022-06-07 15:25:48.836570: I tensorflow/compiler/xla/service/service.cc:176]   StreamExecutor device (0): Host, Default Version\n",
      "2022-06-07 15:25:49.035822: I tensorflow/compiler/xla/service/service.cc:168] XLA service 0x6a2f140 initialized for platform CUDA (this does not guarantee that XLA will be used). Devices:\n",
      "2022-06-07 15:25:49.035902: I tensorflow/compiler/xla/service/service.cc:176]   StreamExecutor device (0): GeForce RTX 2080 Ti, Compute Capability 7.5\n",
      "2022-06-07 15:25:49.038165: I tensorflow/core/common_runtime/gpu/gpu_device.cc:1716] Found device 0 with properties: \n",
      "pciBusID: 0000:86:00.0 name: GeForce RTX 2080 Ti computeCapability: 7.5\n",
      "coreClock: 1.545GHz coreCount: 68 deviceMemorySize: 10.76GiB deviceMemoryBandwidth: 573.69GiB/s\n",
      "2022-06-07 15:25:49.038244: I tensorflow/stream_executor/platform/default/dso_loader.cc:48] Successfully opened dynamic library libcudart.so.10.1\n",
      "2022-06-07 15:25:49.038298: I tensorflow/stream_executor/platform/default/dso_loader.cc:48] Successfully opened dynamic library libcublas.so.10\n",
      "2022-06-07 15:25:49.038331: I tensorflow/stream_executor/platform/default/dso_loader.cc:48] Successfully opened dynamic library libcufft.so.10\n",
      "2022-06-07 15:25:49.038364: I tensorflow/stream_executor/platform/default/dso_loader.cc:48] Successfully opened dynamic library libcurand.so.10\n",
      "2022-06-07 15:25:49.038395: I tensorflow/stream_executor/platform/default/dso_loader.cc:48] Successfully opened dynamic library libcusolver.so.10\n",
      "2022-06-07 15:25:49.038427: I tensorflow/stream_executor/platform/default/dso_loader.cc:48] Successfully opened dynamic library libcusparse.so.10\n",
      "2022-06-07 15:25:49.038460: I tensorflow/stream_executor/platform/default/dso_loader.cc:48] Successfully opened dynamic library libcudnn.so.7\n",
      "2022-06-07 15:25:49.042887: I tensorflow/core/common_runtime/gpu/gpu_device.cc:1858] Adding visible gpu devices: 2\n",
      "2022-06-07 15:25:49.042965: I tensorflow/stream_executor/platform/default/dso_loader.cc:48] Successfully opened dynamic library libcudart.so.10.1\n",
      "2022-06-07 15:25:49.733783: I tensorflow/core/common_runtime/gpu/gpu_device.cc:1257] Device interconnect StreamExecutor with strength 1 edge matrix:\n",
      "2022-06-07 15:25:49.733826: I tensorflow/core/common_runtime/gpu/gpu_device.cc:1263]      2 \n",
      "2022-06-07 15:25:49.733834: I tensorflow/core/common_runtime/gpu/gpu_device.cc:1276] 2:   N \n",
      "2022-06-07 15:25:49.735809: I tensorflow/core/common_runtime/gpu/gpu_device.cc:1402] Created TensorFlow device (/job:localhost/replica:0/task:0/device:GPU:0 with 9783 MB memory) -> physical GPU (device: 2, name: GeForce RTX 2080 Ti, pci bus id: 0000:86:00.0, compute capability: 7.5)\n"
     ]
    }
   ],
   "source": [
    "seq = Sequential()\n",
    "\n",
    "seq.add(Conv2D(filters=10, kernel_size=(3,3), input_shape=(None, x.shape[2], x.shape[3], 1),\n",
    "                   padding='same'))\n",
    "\n",
    "seq.add(Dropout(0.30))\n",
    "seq.add(BatchNormalization())\n",
    "seq.add(Activation(activations.relu))\n",
    "\n",
    "seq.add(ConvLSTM2D(filters=10, kernel_size=(3, 3),\n",
    "                   padding='same', return_sequences=True))\n",
    "seq.add(ConvLSTM2D(filters=10, kernel_size=(3, 3),\n",
    "                   padding='same', return_sequences=True))\n",
    "\n",
    "\n",
    "seq.add(Conv2D(filters=1, kernel_size=(3,3), activation='sigmoid', padding='same'))\n",
    "\n",
    "seq.compile(loss='binary_crossentropy', optimizer='adam')"
   ]
  },
  {
   "cell_type": "code",
   "execution_count": 11,
   "id": "be0dead8",
   "metadata": {
    "scrolled": false
   },
   "outputs": [
    {
     "name": "stdout",
     "output_type": "stream",
     "text": [
      "Model: \"sequential\"\n",
      "_________________________________________________________________\n",
      "Layer (type)                 Output Shape              Param #   \n",
      "=================================================================\n",
      "conv2d (Conv2D)              (None, None, 120, 119, 10 100       \n",
      "_________________________________________________________________\n",
      "dropout (Dropout)            (None, None, 120, 119, 10 0         \n",
      "_________________________________________________________________\n",
      "batch_normalization (BatchNo (None, None, 120, 119, 10 40        \n",
      "_________________________________________________________________\n",
      "activation (Activation)      (None, None, 120, 119, 10 0         \n",
      "_________________________________________________________________\n",
      "conv_lst_m2d (ConvLSTM2D)    (None, None, 120, 119, 10 7240      \n",
      "_________________________________________________________________\n",
      "conv_lst_m2d_1 (ConvLSTM2D)  (None, None, 120, 119, 10 7240      \n",
      "_________________________________________________________________\n",
      "conv2d_1 (Conv2D)            (None, None, 120, 119, 1) 91        \n",
      "=================================================================\n",
      "Total params: 14,711\n",
      "Trainable params: 14,691\n",
      "Non-trainable params: 20\n",
      "_________________________________________________________________\n"
     ]
    }
   ],
   "source": [
    "seq.summary()"
   ]
  },
  {
   "cell_type": "markdown",
   "id": "c96ab7d2",
   "metadata": {},
   "source": [
    "#### Training ConvLSTM model 1500 heatmaps at epochs"
   ]
  },
  {
   "cell_type": "code",
   "execution_count": 12,
   "id": "382645c0",
   "metadata": {
    "scrolled": false
   },
   "outputs": [
    {
     "name": "stdout",
     "output_type": "stream",
     "text": [
      "Epoch 1/20\n"
     ]
    },
    {
     "name": "stderr",
     "output_type": "stream",
     "text": [
      "2022-06-07 15:25:54.250288: I tensorflow/stream_executor/platform/default/dso_loader.cc:48] Successfully opened dynamic library libcudnn.so.7\n",
      "2022-06-07 15:25:56.102485: I tensorflow/stream_executor/platform/default/dso_loader.cc:48] Successfully opened dynamic library libcublas.so.10\n"
     ]
    },
    {
     "name": "stdout",
     "output_type": "stream",
     "text": [
      "33/33 [==============================] - 3s 81ms/step - loss: 0.4724 - val_loss: 0.0663\n",
      "Epoch 2/20\n",
      "33/33 [==============================] - 2s 57ms/step - loss: -0.4952 - val_loss: -1.3301\n",
      "Epoch 3/20\n",
      "33/33 [==============================] - 2s 57ms/step - loss: -1.8616 - val_loss: -2.4622\n",
      "Epoch 4/20\n",
      "33/33 [==============================] - 2s 58ms/step - loss: -2.9049 - val_loss: -3.4204\n",
      "Epoch 5/20\n",
      "33/33 [==============================] - 2s 56ms/step - loss: -3.7365 - val_loss: -4.1206\n",
      "Epoch 6/20\n",
      "33/33 [==============================] - 2s 57ms/step - loss: -4.3550 - val_loss: -4.6899\n",
      "Epoch 7/20\n",
      "33/33 [==============================] - 2s 57ms/step - loss: -4.9037 - val_loss: -5.2278\n",
      "Epoch 8/20\n",
      "33/33 [==============================] - 2s 56ms/step - loss: -5.4291 - val_loss: -5.7455\n",
      "Epoch 9/20\n",
      "33/33 [==============================] - 2s 58ms/step - loss: -5.9400 - val_loss: -6.2513\n",
      "Epoch 10/20\n",
      "33/33 [==============================] - 2s 57ms/step - loss: -6.4377 - val_loss: -6.7542\n",
      "Epoch 11/20\n",
      "33/33 [==============================] - 2s 58ms/step - loss: -6.9330 - val_loss: -7.2439\n",
      "Epoch 12/20\n",
      "33/33 [==============================] - 2s 59ms/step - loss: -7.4187 - val_loss: -7.7332\n",
      "Epoch 13/20\n",
      "33/33 [==============================] - 2s 57ms/step - loss: -7.9027 - val_loss: -8.2127\n",
      "Epoch 14/20\n",
      "33/33 [==============================] - 2s 59ms/step - loss: -8.3786 - val_loss: -8.6959\n",
      "Epoch 15/20\n",
      "33/33 [==============================] - 2s 57ms/step - loss: -8.8566 - val_loss: -9.1729\n",
      "Epoch 16/20\n",
      "33/33 [==============================] - 2s 59ms/step - loss: -9.3290 - val_loss: -9.6490\n",
      "Epoch 17/20\n",
      "33/33 [==============================] - 2s 57ms/step - loss: -9.8012 - val_loss: -10.1207\n",
      "Epoch 18/20\n",
      "33/33 [==============================] - 2s 57ms/step - loss: -10.2691 - val_loss: -10.5946\n",
      "Epoch 19/20\n",
      "33/33 [==============================] - 2s 56ms/step - loss: -10.7364 - val_loss: -11.0633\n",
      "Epoch 20/20\n",
      "33/33 [==============================] - 2s 58ms/step - loss: -11.2026 - val_loss: -11.5306\n"
     ]
    },
    {
     "data": {
      "text/plain": [
       "<tensorflow.python.keras.callbacks.History at 0x7fee0c3b9690>"
      ]
     },
     "execution_count": 12,
     "metadata": {},
     "output_type": "execute_result"
    }
   ],
   "source": [
    "seq.fit(x[:1500], x[:1500], batch_size=32,\n",
    "        epochs=20, validation_split=0.3)"
   ]
  },
  {
   "cell_type": "markdown",
   "id": "05ded081",
   "metadata": {},
   "source": [
    "#### Predict future spatio-temporal heatmaps to compare and calculate accuracy"
   ]
  },
  {
   "cell_type": "code",
   "execution_count": 13,
   "id": "a75a864f",
   "metadata": {
    "scrolled": true
   },
   "outputs": [
    {
     "name": "stdout",
     "output_type": "stream",
     "text": [
      "2192\n",
      "(7, 1, 120, 119, 1)\n"
     ]
    }
   ],
   "source": [
    "print(len(x))\n",
    "\n",
    "point = 2185\n",
    "number_of_days_to_predict = 7\n",
    "track = x[point:point+number_of_days_to_predict][::, ::, ::]\n",
    "\n",
    "print(track.shape)"
   ]
  },
  {
   "cell_type": "code",
   "execution_count": 14,
   "id": "34259592",
   "metadata": {
    "scrolled": true
   },
   "outputs": [
    {
     "name": "stdout",
     "output_type": "stream",
     "text": [
      "Mean SSIM Value of 15 image predictions:  0.956906052798691\n"
     ]
    },
    {
     "data": {
      "image/png": "[encoded data removed]",
      "text/plain": [
       "<Figure size 504x216 with 2 Axes>"
      ]
     },
     "metadata": {
      "needs_background": "light"
     },
     "output_type": "display_data"
    },
    {
     "data": {
      "image/png": "[encoded data removed]",
      "text/plain": [
       "<Figure size 504x216 with 2 Axes>"
      ]
     },
     "metadata": {
      "needs_background": "light"
     },
     "output_type": "display_data"
    },
    {
     "data": {
      "image/png": "[encoded data removed]",
      "text/plain": [
       "<Figure size 504x216 with 2 Axes>"
      ]
     },
     "metadata": {
      "needs_background": "light"
     },
     "output_type": "display_data"
    },
    {
     "data": {
      "image/png": "[encoded data removed]",
      "text/plain": [
       "<Figure size 504x216 with 2 Axes>"
      ]
     },
     "metadata": {
      "needs_background": "light"
     },
     "output_type": "display_data"
    },
    {
     "data": {
      "image/png": "[encoded data removed]",
      "text/plain": [
       "<Figure size 504x216 with 2 Axes>"
      ]
     },
     "metadata": {
      "needs_background": "light"
     },
     "output_type": "display_data"
    },
    {
     "data": {
      "image/png": "[encoded data removed]",
      "text/plain": [
       "<Figure size 504x216 with 2 Axes>"
      ]
     },
     "metadata": {
      "needs_background": "light"
     },
     "output_type": "display_data"
    },
    {
     "data": {
      "image/png": "[encoded data removed]",
      "text/plain": [
       "<Figure size 504x216 with 2 Axes>"
      ]
     },
     "metadata": {
      "needs_background": "light"
     },
     "output_type": "display_data"
    }
   ],
   "source": [
    "import numpy as np\n",
    "np.set_printoptions(threshold=np.inf)\n",
    "from skimage import img_as_ubyte\n",
    "\n",
    "\n",
    "track_pred = seq.predict(track[::, ::, ::, ::]) \n",
    "track_pred = img_as_ubyte(track_pred)\n",
    "\n",
    "ssim_values = []\n",
    "for i in range(number_of_days_to_predict):\n",
    "    fig = plt.figure(figsize=(7, 3))\n",
    "    ax = fig.add_subplot(121)\n",
    "    plt.title(f'Ground Truth - Date:{new_file_list[i+point].split(\"/\")[5].split(\".\")[0]}', fontsize=12)\n",
    "    gt = x[i+point][0,::, ::, 0]\n",
    "    plt.imshow(gt, cmap=\"gray\")\n",
    "    \n",
    "    ax = fig.add_subplot(122)\n",
    "    plt.title('Prediction', fontsize=12)\n",
    "    pred = track_pred[i][0,::, ::, 0]\n",
    "    plt.imshow(pred,cmap=\"gray\")\n",
    "    \n",
    "    ssim_values.append(ssim(gt, pred))\n",
    "    \n",
    "print(\"Mean SSIM Value of 15 image predictions: \" , np.mean(ssim_values))"
   ]
  },
  {
   "cell_type": "markdown",
   "id": "b0191cae",
   "metadata": {},
   "source": [
    "#### Create future days (after 2020) to check the prediction"
   ]
  },
  {
   "cell_type": "code",
   "execution_count": 15,
   "id": "93060819",
   "metadata": {
    "scrolled": false
   },
   "outputs": [
    {
     "name": "stdout",
     "output_type": "stream",
     "text": [
      "730\n"
     ]
    }
   ],
   "source": [
    "import pandas as pd\n",
    "\n",
    "predicted_new_days_list = pd.date_range(start = \"2021-01-01\", end = \"2022-12-31\",freq='d').strftime(\"%Y_%m_%d\").tolist()\n",
    "print(len(predicted_new_days_list))"
   ]
  },
  {
   "cell_type": "code",
   "execution_count": 16,
   "id": "fe8d5c35",
   "metadata": {
    "scrolled": true
   },
   "outputs": [
    {
     "data": {
      "image/png": "[encoded data removed]",
      "text/plain": [
       "<Figure size 360x216 with 1 Axes>"
      ]
     },
     "metadata": {
      "needs_background": "light"
     },
     "output_type": "display_data"
    },
    {
     "data": {
      "image/png": "[encoded data removed]",
      "text/plain": [
       "<Figure size 360x216 with 1 Axes>"
      ]
     },
     "metadata": {
      "needs_background": "light"
     },
     "output_type": "display_data"
    },
    {
     "data": {
      "image/png": "[encoded data removed]",
      "text/plain": [
       "<Figure size 360x216 with 1 Axes>"
      ]
     },
     "metadata": {
      "needs_background": "light"
     },
     "output_type": "display_data"
    },
    {
     "data": {
      "image/png": "[encoded data removed]",
      "text/plain": [
       "<Figure size 360x216 with 1 Axes>"
      ]
     },
     "metadata": {
      "needs_background": "light"
     },
     "output_type": "display_data"
    },
    {
     "data": {
      "image/png": "[encoded data removed]",
      "text/plain": [
       "<Figure size 360x216 with 1 Axes>"
      ]
     },
     "metadata": {
      "needs_background": "light"
     },
     "output_type": "display_data"
    },
    {
     "data": {
      "image/png": "[encoded data removed]",
      "text/plain": [
       "<Figure size 360x216 with 1 Axes>"
      ]
     },
     "metadata": {
      "needs_background": "light"
     },
     "output_type": "display_data"
    },
    {
     "data": {
      "image/png": "[encoded data removed]",
      "text/plain": [
       "<Figure size 360x216 with 1 Axes>"
      ]
     },
     "metadata": {
      "needs_background": "light"
     },
     "output_type": "display_data"
    }
   ],
   "source": [
    "track_pred_NEW = seq.predict(track_pred) \n",
    "\n",
    "for i in range(7):\n",
    "    fig = plt.figure(figsize=(5, 3))\n",
    "    \n",
    "    ax = fig.add_subplot(121)\n",
    "    plt.title(f'Prediction - Date:{predicted_new_days_list[i]}', fontsize=12)\n",
    "\n",
    "    toplot = track_pred_NEW[i][0,::, ::, 0]\n",
    "    plt.imshow(toplot, cmap=\"gray\")"
   ]
  },
  {
   "cell_type": "code",
   "execution_count": null,
   "id": "36849f5e",
   "metadata": {
    "scrolled": true
   },
   "outputs": [],
   "source": []
  }
 ],
 "metadata": {
  "kernelspec": {
   "display_name": "Python 3 (ipykernel)",
   "language": "python",
   "name": "python3"
  },
  "language_info": {
   "codemirror_mode": {
    "name": "ipython",
    "version": 3
   },
   "file_extension": ".py",
   "mimetype": "text/x-python",
   "name": "python",
   "nbconvert_exporter": "python",
   "pygments_lexer": "ipython3",
   "version": "3.7.13"
  }
 },
 "nbformat": 4,
 "nbformat_minor": 5
}
